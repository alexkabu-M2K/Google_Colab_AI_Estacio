{
  "nbformat": 4,
  "nbformat_minor": 0,
  "metadata": {
    "colab": {
      "provenance": [],
      "authorship_tag": "ABX9TyOtwhxp41opgIQwlrkmTeI0",
      "include_colab_link": true
    },
    "kernelspec": {
      "name": "python3",
      "display_name": "Python 3"
    },
    "language_info": {
      "name": "python"
    }
  },
  "cells": [
    {
      "cell_type": "markdown",
      "metadata": {
        "id": "view-in-github",
        "colab_type": "text"
      },
      "source": [
        "<a href=\"https://colab.research.google.com/github/alexkabu-M2K/Google_Colab_AI_Estacio/blob/main/Task_Organized.ipynb\" target=\"_parent\"><img src=\"https://colab.research.google.com/assets/colab-badge.svg\" alt=\"Open In Colab\"/></a>"
      ]
    },
    {
      "cell_type": "code",
      "execution_count": null,
      "metadata": {
        "id": "BMrZSC7kCiph"
      },
      "outputs": [],
      "source": [
        "# Passo 1: Instalar as bibliotecas necessárias\n",
        "!pip install google-generativeai\n",
        "\n",
        "# Passo 2: Importar as bibliotecas\n",
        "import google.generativeai as genai\n",
        "import os\n",
        "\n",
        "# Passo 3: Configurar a API Key (substituir pela sua chave)\n",
        "os.environ['GOOGLE_API_KEY'] = 'SUA_CHAVE_API_AQUI'\n",
        "genai.configure(api_key=os.environ['GOOGLE_API_KEY'])\n",
        "\n",
        "# Passo 4: Listar modelos disponíveis para verificação\n",
        "print(\"Modelos disponíveis:\")\n",
        "for model in genai.list_models():\n",
        "    print(model.name)\n",
        "\n",
        "# Passo 5: Configurar o modelo Gemini-1.5-Flash\n",
        "model = genai.GenerativeModel('gemini-1.5-flash')\n",
        "\n",
        "# Passo 6: Definir um prompt claro e específico\n",
        "prompt = \"Sugira uma funcionalidade inovadora e prática para um aplicativo de organização de tarefas em português brasileiro:\"\n",
        "\n",
        "# Passo 7: Gerar a sugestão com parâmetros ajustados\n",
        "response = model.generate_content(\n",
        "    prompt,\n",
        "    generation_config=genai.types.GenerationConfig(\n",
        "        max_output_tokens=100,\n",
        "        temperature=0.7,\n",
        "    )\n",
        ")\n",
        "\n",
        "# Passo 8: Processar e exibir a sugestão\n",
        "texto_gerado = response.text.strip()\n",
        "print(f\"Funcionalidade sugerida: {texto_gerado}\")"
      ]
    }
  ]
}