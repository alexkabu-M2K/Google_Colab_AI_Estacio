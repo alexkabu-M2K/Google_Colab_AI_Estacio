{
  "nbformat": 4,
  "nbformat_minor": 0,
  "metadata": {
    "colab": {
      "provenance": [],
      "authorship_tag": "ABX9TyMj+3bQPaunXEvp46RKFin4",
      "include_colab_link": true
    },
    "kernelspec": {
      "name": "python3",
      "display_name": "Python 3"
    },
    "language_info": {
      "name": "python"
    }
  },
  "cells": [
    {
      "cell_type": "markdown",
      "metadata": {
        "id": "view-in-github",
        "colab_type": "text"
      },
      "source": [
        "<a href=\"https://colab.research.google.com/github/alexkabu-M2K/Google_Colab_AI_Estacio/blob/main/Aplicacao_JSON.ipynb\" target=\"_parent\"><img src=\"https://colab.research.google.com/assets/colab-badge.svg\" alt=\"Open In Colab\"/></a>"
      ]
    },
    {
      "cell_type": "code",
      "execution_count": null,
      "metadata": {
        "id": "EmdEhhyHYfJp"
      },
      "outputs": [],
      "source": [
        "# Passo 1: Instalar as bibliotecas necessárias\n",
        "!pip install google-generativeai\n",
        "\n",
        "# Passo 2: Importar as bibliotecas\n",
        "import google.generativeai as genai\n",
        "import json\n",
        "import os\n",
        "\n",
        "# Passo 3: Configurar a API Key (substituir pela sua chave)\n",
        "os.environ['GOOGLE_API_KEY'] = 'SUA_CHAVE_API_AQUI'\n",
        "genai.configure(api_key=os.environ['GOOGLE_API_KEY'])\n",
        "\n",
        "# Passo 4: Listar modelos disponíveis para verificação\n",
        "print(\"Modelos disponíveis:\")\n",
        "for model in genai.list_models():\n",
        "    print(model.name)\n",
        "\n",
        "# Passo 5: Configurar o modelo Gemini-1.5-Flash\n",
        "model = genai.GenerativeModel('gemini-1.5-flash')\n",
        "\n",
        "# Passo 6: Criar um prompt estruturado\n",
        "prompt = \"Forneça uma descrição curta e prática de uma funcionalidade para um aplicativo de planejamento financeiro em português do Brasil:\"\n",
        "\n",
        "# Passo 7: Gerar três saídas com parâmetros ajustados\n",
        "responses = []\n",
        "for _ in range(3):\n",
        "    response = model.generate_content(\n",
        "        prompt,\n",
        "        generation_config=genai.types.GenerationConfig(\n",
        "            max_output_tokens=30,\n",
        "            temperature=0.7,\n",
        "        )\n",
        "    )\n",
        "    responses.append(response.text.strip())\n",
        "\n",
        "# Passo 8: Organizar e salvar as saídas em um arquivo JSON\n",
        "saidas = [{\"id\": i+1, \"texto\": texto} for i, texto in enumerate(responses)]\n",
        "with open('funcionalidades_financeiro.json', 'w') as f:\n",
        "    json.dump(saidas, f, indent=2)\n",
        "\n",
        "# Passo 9: Exibir as saídas organizadas\n",
        "for saida in saidas:\n",
        "    print(f\"Saída {saida['id']}: {saida['texto']}\")"
      ]
    }
  ]
}