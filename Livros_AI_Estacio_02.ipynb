{
  "nbformat": 4,
  "nbformat_minor": 0,
  "metadata": {
    "colab": {
      "provenance": [],
      "authorship_tag": "ABX9TyOk0PYYX6N/7aIF+QhzH7mT",
      "include_colab_link": true
    },
    "kernelspec": {
      "name": "python3",
      "display_name": "Python 3"
    },
    "language_info": {
      "name": "python"
    }
  },
  "cells": [
    {
      "cell_type": "markdown",
      "metadata": {
        "id": "view-in-github",
        "colab_type": "text"
      },
      "source": [
        "<a href=\"https://colab.research.google.com/github/alexkabu-M2K/Google_Colab_AI_Estacio/blob/main/Livros_AI_Estacio_02.ipynb\" target=\"_parent\"><img src=\"https://colab.research.google.com/assets/colab-badge.svg\" alt=\"Open In Colab\"/></a>"
      ]
    },
    {
      "cell_type": "code",
      "execution_count": null,
      "metadata": {
        "colab": {
          "base_uri": "https://localhost:8080/",
          "height": 957
        },
        "id": "8OyNLEChKSpW",
        "outputId": "4e0d61ac-e237-4038-eb05-57736700d38c"
      },
      "outputs": [
        {
          "output_type": "stream",
          "name": "stdout",
          "text": [
            "Requirement already satisfied: google-generativeai in /usr/local/lib/python3.12/dist-packages (0.8.5)\n",
            "Requirement already satisfied: pandas in /usr/local/lib/python3.12/dist-packages (2.2.2)\n",
            "Requirement already satisfied: matplotlib in /usr/local/lib/python3.12/dist-packages (3.10.0)\n",
            "Requirement already satisfied: google-ai-generativelanguage==0.6.15 in /usr/local/lib/python3.12/dist-packages (from google-generativeai) (0.6.15)\n",
            "Requirement already satisfied: google-api-core in /usr/local/lib/python3.12/dist-packages (from google-generativeai) (2.25.1)\n",
            "Requirement already satisfied: google-api-python-client in /usr/local/lib/python3.12/dist-packages (from google-generativeai) (2.182.0)\n",
            "Requirement already satisfied: google-auth>=2.15.0 in /usr/local/lib/python3.12/dist-packages (from google-generativeai) (2.38.0)\n",
            "Requirement already satisfied: protobuf in /usr/local/lib/python3.12/dist-packages (from google-generativeai) (5.29.5)\n",
            "Requirement already satisfied: pydantic in /usr/local/lib/python3.12/dist-packages (from google-generativeai) (2.11.9)\n",
            "Requirement already satisfied: tqdm in /usr/local/lib/python3.12/dist-packages (from google-generativeai) (4.67.1)\n",
            "Requirement already satisfied: typing-extensions in /usr/local/lib/python3.12/dist-packages (from google-generativeai) (4.15.0)\n",
            "Requirement already satisfied: proto-plus<2.0.0dev,>=1.22.3 in /usr/local/lib/python3.12/dist-packages (from google-ai-generativelanguage==0.6.15->google-generativeai) (1.26.1)\n",
            "Requirement already satisfied: numpy>=1.26.0 in /usr/local/lib/python3.12/dist-packages (from pandas) (2.0.2)\n",
            "Requirement already satisfied: python-dateutil>=2.8.2 in /usr/local/lib/python3.12/dist-packages (from pandas) (2.9.0.post0)\n",
            "Requirement already satisfied: pytz>=2020.1 in /usr/local/lib/python3.12/dist-packages (from pandas) (2025.2)\n",
            "Requirement already satisfied: tzdata>=2022.7 in /usr/local/lib/python3.12/dist-packages (from pandas) (2025.2)\n",
            "Requirement already satisfied: contourpy>=1.0.1 in /usr/local/lib/python3.12/dist-packages (from matplotlib) (1.3.3)\n",
            "Requirement already satisfied: cycler>=0.10 in /usr/local/lib/python3.12/dist-packages (from matplotlib) (0.12.1)\n",
            "Requirement already satisfied: fonttools>=4.22.0 in /usr/local/lib/python3.12/dist-packages (from matplotlib) (4.60.0)\n",
            "Requirement already satisfied: kiwisolver>=1.3.1 in /usr/local/lib/python3.12/dist-packages (from matplotlib) (1.4.9)\n",
            "Requirement already satisfied: packaging>=20.0 in /usr/local/lib/python3.12/dist-packages (from matplotlib) (25.0)\n",
            "Requirement already satisfied: pillow>=8 in /usr/local/lib/python3.12/dist-packages (from matplotlib) (11.3.0)\n",
            "Requirement already satisfied: pyparsing>=2.3.1 in /usr/local/lib/python3.12/dist-packages (from matplotlib) (3.2.4)\n",
            "Requirement already satisfied: googleapis-common-protos<2.0.0,>=1.56.2 in /usr/local/lib/python3.12/dist-packages (from google-api-core->google-generativeai) (1.70.0)\n",
            "Requirement already satisfied: requests<3.0.0,>=2.18.0 in /usr/local/lib/python3.12/dist-packages (from google-api-core->google-generativeai) (2.32.4)\n",
            "Requirement already satisfied: cachetools<6.0,>=2.0.0 in /usr/local/lib/python3.12/dist-packages (from google-auth>=2.15.0->google-generativeai) (5.5.2)\n",
            "Requirement already satisfied: pyasn1-modules>=0.2.1 in /usr/local/lib/python3.12/dist-packages (from google-auth>=2.15.0->google-generativeai) (0.4.2)\n",
            "Requirement already satisfied: rsa<5,>=3.1.4 in /usr/local/lib/python3.12/dist-packages (from google-auth>=2.15.0->google-generativeai) (4.9.1)\n",
            "Requirement already satisfied: six>=1.5 in /usr/local/lib/python3.12/dist-packages (from python-dateutil>=2.8.2->pandas) (1.17.0)\n",
            "Requirement already satisfied: httplib2<1.0.0,>=0.19.0 in /usr/local/lib/python3.12/dist-packages (from google-api-python-client->google-generativeai) (0.31.0)\n",
            "Requirement already satisfied: google-auth-httplib2<1.0.0,>=0.2.0 in /usr/local/lib/python3.12/dist-packages (from google-api-python-client->google-generativeai) (0.2.0)\n",
            "Requirement already satisfied: uritemplate<5,>=3.0.1 in /usr/local/lib/python3.12/dist-packages (from google-api-python-client->google-generativeai) (4.2.0)\n",
            "Requirement already satisfied: annotated-types>=0.6.0 in /usr/local/lib/python3.12/dist-packages (from pydantic->google-generativeai) (0.7.0)\n",
            "Requirement already satisfied: pydantic-core==2.33.2 in /usr/local/lib/python3.12/dist-packages (from pydantic->google-generativeai) (2.33.2)\n",
            "Requirement already satisfied: typing-inspection>=0.4.0 in /usr/local/lib/python3.12/dist-packages (from pydantic->google-generativeai) (0.4.1)\n",
            "Requirement already satisfied: grpcio<2.0.0,>=1.33.2 in /usr/local/lib/python3.12/dist-packages (from google-api-core[grpc]!=2.0.*,!=2.1.*,!=2.10.*,!=2.2.*,!=2.3.*,!=2.4.*,!=2.5.*,!=2.6.*,!=2.7.*,!=2.8.*,!=2.9.*,<3.0.0dev,>=1.34.1->google-ai-generativelanguage==0.6.15->google-generativeai) (1.75.0)\n",
            "Requirement already satisfied: grpcio-status<2.0.0,>=1.33.2 in /usr/local/lib/python3.12/dist-packages (from google-api-core[grpc]!=2.0.*,!=2.1.*,!=2.10.*,!=2.2.*,!=2.3.*,!=2.4.*,!=2.5.*,!=2.6.*,!=2.7.*,!=2.8.*,!=2.9.*,<3.0.0dev,>=1.34.1->google-ai-generativelanguage==0.6.15->google-generativeai) (1.71.2)\n",
            "Requirement already satisfied: pyasn1<0.7.0,>=0.6.1 in /usr/local/lib/python3.12/dist-packages (from pyasn1-modules>=0.2.1->google-auth>=2.15.0->google-generativeai) (0.6.1)\n",
            "Requirement already satisfied: charset_normalizer<4,>=2 in /usr/local/lib/python3.12/dist-packages (from requests<3.0.0,>=2.18.0->google-api-core->google-generativeai) (3.4.3)\n",
            "Requirement already satisfied: idna<4,>=2.5 in /usr/local/lib/python3.12/dist-packages (from requests<3.0.0,>=2.18.0->google-api-core->google-generativeai) (3.10)\n",
            "Requirement already satisfied: urllib3<3,>=1.21.1 in /usr/local/lib/python3.12/dist-packages (from requests<3.0.0,>=2.18.0->google-api-core->google-generativeai) (2.5.0)\n",
            "Requirement already satisfied: certifi>=2017.4.17 in /usr/local/lib/python3.12/dist-packages (from requests<3.0.0,>=2.18.0->google-api-core->google-generativeai) (2025.8.3)\n"
          ]
        },
        {
          "output_type": "stream",
          "name": "stderr",
          "text": [
            "WARNING:tornado.access:400 POST /v1beta/models/gemini-2.0-flash-exp:generateContent?%24alt=json%3Benum-encoding%3Dint (127.0.0.1) 6490.29ms\n"
          ]
        },
        {
          "output_type": "stream",
          "name": "stdout",
          "text": [
            "? Erro na geração 1: 400 POST https://generativelanguage.googleapis.com/v1beta/models/gemini-2.0-flash-exp:generateContent?%24alt=json%3Benum-encoding%3Dint: API key not valid. Please pass a valid API key.\n"
          ]
        },
        {
          "output_type": "stream",
          "name": "stderr",
          "text": [
            "WARNING:tornado.access:400 POST /v1beta/models/gemini-2.0-flash-exp:generateContent?%24alt=json%3Benum-encoding%3Dint (127.0.0.1) 607.74ms\n"
          ]
        },
        {
          "output_type": "stream",
          "name": "stdout",
          "text": [
            "? Erro na geração 2: 400 POST https://generativelanguage.googleapis.com/v1beta/models/gemini-2.0-flash-exp:generateContent?%24alt=json%3Benum-encoding%3Dint: API key not valid. Please pass a valid API key.\n"
          ]
        },
        {
          "output_type": "stream",
          "name": "stderr",
          "text": [
            "WARNING:tornado.access:400 POST /v1beta/models/gemini-2.0-flash-exp:generateContent?%24alt=json%3Benum-encoding%3Dint (127.0.0.1) 431.78ms\n"
          ]
        },
        {
          "output_type": "stream",
          "name": "stdout",
          "text": [
            "? Erro na geração 3: 400 POST https://generativelanguage.googleapis.com/v1beta/models/gemini-2.0-flash-exp:generateContent?%24alt=json%3Benum-encoding%3Dint: API key not valid. Please pass a valid API key.\n"
          ]
        },
        {
          "output_type": "stream",
          "name": "stderr",
          "text": [
            "WARNING:tornado.access:400 POST /v1beta/models/gemini-2.0-flash-exp:generateContent?%24alt=json%3Benum-encoding%3Dint (127.0.0.1) 607.80ms\n"
          ]
        },
        {
          "output_type": "stream",
          "name": "stdout",
          "text": [
            "? Erro na geração 4: 400 POST https://generativelanguage.googleapis.com/v1beta/models/gemini-2.0-flash-exp:generateContent?%24alt=json%3Benum-encoding%3Dint: API key not valid. Please pass a valid API key.\n"
          ]
        },
        {
          "output_type": "stream",
          "name": "stderr",
          "text": [
            "WARNING:tornado.access:400 POST /v1beta/models/gemini-2.0-flash-exp:generateContent?%24alt=json%3Benum-encoding%3Dint (127.0.0.1) 457.23ms\n"
          ]
        },
        {
          "output_type": "stream",
          "name": "stdout",
          "text": [
            "? Erro na geração 5: 400 POST https://generativelanguage.googleapis.com/v1beta/models/gemini-2.0-flash-exp:generateContent?%24alt=json%3Benum-encoding%3Dint: API key not valid. Please pass a valid API key.\n",
            "? Nenhuma saída atendeu aos critérios de qualidade. Tente ajustar o prompt ou aumentar o número de gerações.\n"
          ]
        }
      ],
      "source": [
        "# Passo 1: Instalar as dependências necessárias\n",
        "!pip install google-generativeai pandas matplotlib\n",
        "\n",
        "# Passo 2: Importar as bibliotecas\n",
        "import google.generativeai as genai\n",
        "import pandas as pd\n",
        "import json\n",
        "from datetime import datetime\n",
        "\n",
        "# Passo 3: Configurar a API do Gemini (insira sua chave gratuita de https://aistudio.google.com/app/apikey)\n",
        "GOOGLE_API_KEY = \"Sua Chave Aqui\"  # Substituir pela sua chave\n",
        "genai.configure(api_key=GOOGLE_API_KEY)\n",
        "\n",
        "# Passo 4: Configurar o modelo Gemini 2.0 Flash\n",
        "model = genai.GenerativeModel('gemini-2.0-flash-exp')\n",
        "generation_config = {\n",
        "    \"temperature\": 0.4,  # Precisão Técnica\n",
        "    \"top_p\": 0.9,       # Diversidade controlada\n",
        "    \"max_output_tokens\": 800  # Código mais extenso\n",
        "}\n",
        "\n",
        "# Passo 5: Definir um prompt estruturado com exemplo de sistema completo\n",
        "prompt = \"\"\"Você é um especialista em análise de dados e programação em Python. Crie um sistema completo de análise de vendas para uma plataforma de e-commerce de livros sobre IA generativa. Siga este formato:\n",
        "\n",
        "```python\n",
        "class AnalisadorVendas:\n",
        "    def __init__(self, dados_vendas: list):\n",
        "        self.dados = dados_vendas\n",
        "        self.metricas = {}\n",
        "\n",
        "    def calcular_receita_total(self) -> float:\n",
        "        # Calcula receita total das vendas\n",
        "        return sum(venda['preco'] * venda['quantidade'] for venda in self.dados)\n",
        "\n",
        "    def livro_mais_vendido(self) -> dict:\n",
        "        # Identifica o livro com maior volume de vendas\n",
        "        vendas_por_livro = {}\n",
        "        for venda in self.dados:\n",
        "            titulo = venda['titulo']\n",
        "            vendas_por_livro[titulo] = vendas_por_livro.get(titulo, 0) + venda['quantidade']\n",
        "        return max(vendas_por_livro.items(), key=lambda x: x[1])\n",
        "\"\"\"\n",
        "\n",
        "#Passo 6: Gerar cinco saídas com chamadas repetidas\n",
        "textos = []\n",
        "for i in range(5):\n",
        "  try:\n",
        "    resultado = model.generate_content(prompt, generation_config=generation_config)\n",
        "    textos.append(resultado.text.strip())\n",
        "    print(f\"? Geração {i+1} concluída\")\n",
        "  except Exception as e:\n",
        "    textos.append(f\"Erro na geração: {str(e)}\")\n",
        "    print(f\"? Erro na geração {i+1}: {str(e)}\")\n",
        "\n",
        "\n",
        "#Passo 7: Avaliar e salvar saídas consistentes com critérios robustos\n",
        "\n",
        "saidas_validas = []\n",
        "for i, texto in enumerate(textos):\n",
        "  # Critérios de qualidade mais rigorosos\n",
        "  tem_classe = \"class \" in texto.lower()\n",
        "  tem_metodos = \"def \" in texto.lower()\n",
        "  tem_docstring = '\"\"\"' in texto or \"'''\" in texto\n",
        "  tem_tratamento_erro = \"try:\" in texto.lower() or \"except\" in texto.lower()\n",
        "  tamanho_adequado = len(texto.split()) > 50\n",
        "  if tem_classe and tem_metodos and tamanho_adequado:\n",
        "    qualidade = sum([tem_docstring, tem_tratamento_erro, tem_classe, tem_metodos])\n",
        "    saidas_validas.append({\n",
        "        \"id\": i+1,\n",
        "        \"texto\": texto,\n",
        "        \"qualidade\": qualidade,\n",
        "        \"tem_docstring\": tem_docstring,\n",
        "        \"tem_tratamento_erro\": tem_tratamento_erro\n",
        "    })\n",
        "\n",
        "#Passo 8: Salvar e exibir a melhor saída (maior qualidade)\n",
        "\n",
        "if saidas_validas:\n",
        "  melhor_saida = max(saidas_validas, key=lambda x: x['qualidade'])\n",
        "  # Salvar código principal\n",
        "  with open('analisador_vendas.py', 'w', encoding='utf-8') as f:\n",
        "    f.write(f\"# Sistema de Anᬩse de Vendas - LivrosAI Pro\\n\")\n",
        "    f.write(f\"# Gerado em: {datetime.now().strftime('%Y-%m-%d %H:%M:%S')}\\n\")\n",
        "    f.write(f\"# Qualidade: {melhor_saida['qualidade']}/4\\n\\n\")\n",
        "    f.write(melhor_saida['texto'])\n",
        "  # Salvar relatório de qualidade\n",
        "  relatorio_qualidade = {\n",
        "    \"total_geracoes\": len(textos),\n",
        "    \"saidas_validas\": len(saidas_validas),\n",
        "    \"melhor_qualidade\": melhor_saida['qualidade'],\n",
        "    \"criterios_atendidos\": {\n",
        "        \"docstring\": melhor_saida['tem_docstring'],\n",
        "        \"tratamento_erro\": melhor_saida['tem_tratamento_erro']\n",
        "    },\n",
        "    \"timestamp\": datetime.now().isoformat()\n",
        "  }\n",
        "  with open('relatorio_qualidade.json', 'w', encoding='utf-8') as f:\n",
        "    json.dump(relatorio_qualidade, f, indent=2, ensure_ascii=False)\n",
        "  print(f\"\\n?? MELHOR RESULTADO (Qualidade: {melhor_saida['qualidade']}/4):\")\n",
        "  print(\"=\"*60)\n",
        "  print(melhor_saida['texto'][:500] + \"...\" if len(melhor_saida['texto']) > 500 else melhor_saida['texto'])\n",
        "  print(f\"\\n?? Arquivos salvos: analisador_vendas.py, relatorio_qualidade.json\")\n",
        "else:\n",
        "  print(\"? Nenhuma saída atendeu aos critérios de qualidade. Tente ajustar o prompt ou aumentar o número de gerações.\")"
      ]
    }
  ]
}